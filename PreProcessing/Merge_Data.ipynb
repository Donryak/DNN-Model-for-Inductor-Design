{
 "cells": [
  {
   "cell_type": "code",
   "execution_count": 2,
   "metadata": {},
   "outputs": [],
   "source": [
    "import os\n",
    "import pandas as pd\n",
    "import shutil"
   ]
  },
  {
   "cell_type": "code",
   "execution_count": 3,
   "metadata": {},
   "outputs": [],
   "source": [
    "# 병합된 데이터를 저장할 폴더 경로\n",
    "preprocessing_folder_path = r'C:\\\\Users\\\\COMS03\\\\Desktop\\\\Capstone\\\\Preprocessing DataSet'\n",
    "final_folder_path = r'C:\\\\Users\\\\COMS03\\\\Desktop\\\\Capstone\\\\Final DataSet'\n",
    "\n",
    "# 출력 폴더가 존재하지 않으면 생성\n",
    "os.makedirs(final_folder_path, exist_ok=True)\n"
   ]
  },
  {
   "cell_type": "code",
   "execution_count": 4,
   "metadata": {},
   "outputs": [
    {
     "name": "stdout",
     "output_type": "stream",
     "text": [
      "Saved: C:\\\\Users\\\\COMS03\\\\Desktop\\\\Capstone\\\\Final DataSet\\frequency_100.0 MHz.csv\n",
      "Saved: C:\\\\Users\\\\COMS03\\\\Desktop\\\\Capstone\\\\Final DataSet\\frequency_200.0 MHz.csv\n",
      "Saved: C:\\\\Users\\\\COMS03\\\\Desktop\\\\Capstone\\\\Final DataSet\\frequency_300.0 MHz.csv\n",
      "Saved: C:\\\\Users\\\\COMS03\\\\Desktop\\\\Capstone\\\\Final DataSet\\frequency_400.0 MHz.csv\n",
      "Saved: C:\\\\Users\\\\COMS03\\\\Desktop\\\\Capstone\\\\Final DataSet\\frequency_500.0 MHz.csv\n",
      "Saved: C:\\\\Users\\\\COMS03\\\\Desktop\\\\Capstone\\\\Final DataSet\\frequency_600.0 MHz.csv\n",
      "Saved: C:\\\\Users\\\\COMS03\\\\Desktop\\\\Capstone\\\\Final DataSet\\frequency_700.0 MHz.csv\n",
      "Saved: C:\\\\Users\\\\COMS03\\\\Desktop\\\\Capstone\\\\Final DataSet\\frequency_800.0 MHz.csv\n",
      "Saved: C:\\\\Users\\\\COMS03\\\\Desktop\\\\Capstone\\\\Final DataSet\\frequency_900.0 MHz.csv\n"
     ]
    }
   ],
   "source": [
    "# 폴더 내의 모든 파일을 읽어옴\n",
    "all_files = [os.path.join(preprocessing_folder_path, f) for f in os.listdir(preprocessing_folder_path) if f.endswith('.csv')]\n",
    "\n",
    "# 모든 파일의 데이터를 하나의 데이터프레임으로 병합\n",
    "data_list = []\n",
    "for file_path in all_files:\n",
    "    data = pd.read_csv(file_path)\n",
    "    data_list.append(data)\n",
    "\n",
    "merged_data = pd.concat(data_list, ignore_index=True)\n",
    "\n",
    "# 주파수별로 데이터를 나누어 저장\n",
    "unique_freqs = merged_data['freq'].unique()\n",
    "for freq in unique_freqs:\n",
    "    freq_data = merged_data[merged_data['freq'] == freq]\n",
    "    output_file_path = os.path.join(final_folder_path, f'frequency_{freq}.csv')\n",
    "    freq_data.to_csv(output_file_path, index=False)\n",
    "    print(f'Saved: {output_file_path}')"
   ]
  }
 ],
 "metadata": {
  "kernelspec": {
   "display_name": "Python 3",
   "language": "python",
   "name": "python3"
  },
  "language_info": {
   "codemirror_mode": {
    "name": "ipython",
    "version": 3
   },
   "file_extension": ".py",
   "mimetype": "text/x-python",
   "name": "python",
   "nbconvert_exporter": "python",
   "pygments_lexer": "ipython3",
   "version": "3.12.0"
  }
 },
 "nbformat": 4,
 "nbformat_minor": 2
}
