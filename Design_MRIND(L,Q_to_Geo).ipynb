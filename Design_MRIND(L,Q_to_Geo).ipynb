{
  "nbformat": 4,
  "nbformat_minor": 0,
  "metadata": {
    "colab": {
      "provenance": []
    },
    "kernelspec": {
      "name": "python3",
      "display_name": "Python 3"
    },
    "language_info": {
      "name": "python"
    }
  },
  "cells": [
    {
      "cell_type": "code",
      "source": [
        "import numpy as np\n",
        "import tensorflow as tf\n",
        "import joblib"
      ],
      "metadata": {
        "id": "2aCOuGvf9h1t"
      },
      "execution_count": 1,
      "outputs": []
    },
    {
      "cell_type": "code",
      "source": [
        "#구글 드라이브 import\n",
        "from google.colab import drive\n",
        "drive.mount('/content/drive')"
      ],
      "metadata": {
        "colab": {
          "base_uri": "https://localhost:8080/"
        },
        "id": "QCiN6MVq9sfb",
        "outputId": "edb37276-5808-492f-d946-0b8ff6f2af3d"
      },
      "execution_count": 2,
      "outputs": [
        {
          "output_type": "stream",
          "name": "stdout",
          "text": [
            "Mounted at /content/drive\n"
          ]
        }
      ]
    },
    {
      "cell_type": "code",
      "execution_count": 3,
      "metadata": {
        "colab": {
          "base_uri": "https://localhost:8080/"
        },
        "id": "FmhnW9Q184A4",
        "outputId": "cfa6b475-10f6-4c1a-b586-f68e280dd871"
      },
      "outputs": [
        {
          "output_type": "stream",
          "name": "stdout",
          "text": [
            "Input Info:\n",
            "((), {'dense_input': TensorSpec(shape=(None, 2), dtype=tf.float32, name='dense_input')})\n",
            "Output Info:\n",
            "{'dense_5': TensorSpec(shape=(None, 5), dtype=tf.float32, name='dense_5')}\n"
          ]
        }
      ],
      "source": [
        "model_path = '/content/drive/MyDrive/Capstone1/제작 자료/TR_model'\n",
        "scaler_path = '/content/drive/MyDrive/Capstone1/제작 자료/scaler.pkl'\n",
        "\n",
        "model = tf.saved_model.load(model_path)\n",
        "scaler = joblib.load(scaler_path)\n",
        "\n",
        "# 서명 정보 확인\n",
        "infer = model.signatures['serving_default']\n",
        "print(\"Input Info:\")\n",
        "print(infer.structured_input_signature)\n",
        "print(\"Output Info:\")\n",
        "print(infer.structured_outputs)"
      ]
    },
    {
      "cell_type": "code",
      "source": [
        "# 사용자가 입력하는 L과 Q 값을 받아옴\n",
        "L = float(input(\"Enter the value for L: \"))\n",
        "Q = float(input(\"Enter the value for Q: \"))\n",
        "\n",
        "# 예측을 위한 입력 데이터 생성 및 정규화\n",
        "input_data = np.array([[L, Q]], dtype=np.float32)\n",
        "input_data = scaler.transform(input_data)\n",
        "\n",
        "# 최적화 조건 확인 함수\n",
        "def check_conditions(N, L1, L2, W, S):\n",
        "    return (\n",
        "        L1 >= 2 * N * W + (2 * N - 1) * S and\n",
        "        L2 >= 2 * N * W + (2 * N - 1) * S and\n",
        "        0.25 <= N <= 5 and\n",
        "        2 <= L1 <= 25 and\n",
        "        2 <= L2 <= 25 and\n",
        "        0.05 <= W <= 1 and\n",
        "        0.05 <= S <= 1\n",
        "    )\n",
        "\n",
        "# 최적화 조건을 만족하는 출력 찾기\n",
        "found = False\n",
        "max_attempts = 1000\n",
        "for _ in range(max_attempts):\n",
        "    # 예측 수행\n",
        "    predictions = model(input_data, training=False).numpy()\n",
        "    predicted_values = predictions[0]\n",
        "\n",
        "    # N 값을 0.25 단위로 조정\n",
        "    N = round(predicted_values[0] * 4) / 4\n",
        "    L1, L2, W, S = np.round(predicted_values[1:], 2)\n",
        "    if check_conditions(N, L1, L2, W, S):\n",
        "        found = True\n",
        "        break\n",
        "\n",
        "if found:\n",
        "    print(\"Optimal Predictions found:\", [N, L1, L2, W, S])\n",
        "else:\n",
        "    print(\"No optimal predictions found within the maximum attempts.\")\n"
      ],
      "metadata": {
        "colab": {
          "base_uri": "https://localhost:8080/"
        },
        "id": "FpVwaEfQ9JCG",
        "outputId": "87c02ccf-2e2f-41bb-b3cb-66e506f09bb5"
      },
      "execution_count": 4,
      "outputs": [
        {
          "output_type": "stream",
          "name": "stdout",
          "text": [
            "Enter the value for L: 1000\n",
            "Enter the value for Q: 14\n",
            "Optimal Predictions found: [2.0, 14.16, 11.19, 0.15, 0.3]\n"
          ]
        }
      ]
    }
  ]
}